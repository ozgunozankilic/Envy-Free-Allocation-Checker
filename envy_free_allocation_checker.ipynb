{
 "cells": [
  {
   "cell_type": "markdown",
   "id": "de4b35aa-19a0-4318-8c33-c6bfec558a3c",
   "metadata": {},
   "source": [
    "# Envy-free allocation checker\n",
    "\n",
    "Envy-free indivisible item allocation is a fair division problem. If none of the agents believe any other agent got more value allocated than themselves, it is envy-free. Algorithmicaly checking a specific allocation is trivial. However, checking whether an envy-free allocation is possible is considerably more complex in certain cases. This problem is also explored but in a heuristic way. The functionality is rather simplistic as I only needed this much while working on a course assignment."
   ]
  },
  {
   "cell_type": "markdown",
   "id": "fd3bce99-39ef-4373-a85e-e29722f20c65",
   "metadata": {},
   "source": [
    "# Functions"
   ]
  },
  {
   "cell_type": "code",
   "execution_count": 1,
   "id": "ff881414-193a-4444-aadb-c2c273bfce53",
   "metadata": {},
   "outputs": [],
   "source": [
    "import pandas as pd\n",
    "import numpy as np\n",
    "import random\n",
    "\n",
    "\n",
    "def create_random_valuations(\n",
    "    n_agents,\n",
    "    n_items,\n",
    "    max_value,\n",
    "    min_value=0,\n",
    "    allow_item_equality=True,\n",
    "    agent_names=None,\n",
    "    item_names=None,\n",
    "):\n",
    "    \"\"\"Creates random sets of valuations for each agent based on the desired numbers of \n",
    "    agents and items.\n",
    "\n",
    "    Args:\n",
    "        n_agents (int): Number of agents in the allocation.\n",
    "        n_items (int): Number of items in the allocation.\n",
    "        max_value (int): Maximum desired value of an item for an agent.\n",
    "        min_value (int, optional): Minimum desired value of an item for an agent. \n",
    "            Defaults to 0.\n",
    "        allow_item_equality (bool, optional): Indicates whether an agent can have the \n",
    "            same valuation for multiple items. Defaults to True.\n",
    "        agent_names (list, optional): List of agent names that will overwrite the \n",
    "            DataFrame row names. Defaults to None.\n",
    "        item_names (list, optional): List of item names that will overwrite the \n",
    "            DataFrame column names. Defaults to None.\n",
    "\n",
    "    Returns:\n",
    "        DataFrame: A valuations DataFrame where rows represent the agents and columns \n",
    "            represent the items.\n",
    "    \"\"\"\n",
    "    min_value = int(min_value)\n",
    "    max_value = int(max_value)\n",
    "\n",
    "    if agent_names is not None and n_agents != len(agent_names):\n",
    "        agent_names = None\n",
    "    if item_names is not None and n_items != len(item_names):\n",
    "        item_names = None\n",
    "\n",
    "    if allow_item_equality and n_items + 1 >= (max_value - min_value):\n",
    "        valuations = pd.DataFrame(\n",
    "            np.random.randint(min_value, max_value, size=(n_agents, n_items))\n",
    "        )\n",
    "    else:\n",
    "        valuations = pd.DataFrame(index=range(n_agents), columns=range(n_items))\n",
    "        for row_id, row in valuations.iterrows():\n",
    "            valuations.iloc[row_id, :] = random.sample(\n",
    "                list(range(min_value, max_value + 1)), n_items\n",
    "            )\n",
    "\n",
    "    if agent_names:\n",
    "        valuations.index = agent_names\n",
    "\n",
    "    if item_names:\n",
    "        valuations.columns = item_names\n",
    "\n",
    "    return valuations\n",
    "\n",
    "\n",
    "def create_random_allocations(\n",
    "    valuations, min_items=1, max_items=None, force_allocate_all=False\n",
    "):\n",
    "    \"\"\"Randomly allocates the items to agents based on the agents and items in the \n",
    "    valuations DataFrame.\n",
    "\n",
    "    Args:\n",
    "        valuations (DataFrame): Valuations DataFrame where rows represent the agents and\n",
    "            columns represent the items.\n",
    "        min_items (int, optional): Minimum number of items to be allocated for each \n",
    "            agent. Defaults to 1.\n",
    "        max_items (int|None, optional): Maximum number of items to be allocated for each \n",
    "            agent. Defaults to None (without a limit).\n",
    "        force_allocate_all (bool, optional): Indicates whether all items must be \n",
    "            allocated to an agent. Defaults to False.\n",
    "\n",
    "    Returns:\n",
    "        dict: Allocations dictionary where keys are the agents and values are the \n",
    "            lists of items allocated for each agent.\n",
    "    \"\"\"\n",
    "    n_agents, n_items = valuations.shape\n",
    "    min_items = int(max(0, min_items))\n",
    "    if max_items is None:\n",
    "        max_items = n_items\n",
    "\n",
    "    done = False\n",
    "\n",
    "    while not done:\n",
    "        allocations = {}\n",
    "        if min_items > 0 and n_items < n_agents:\n",
    "            return allocations\n",
    "\n",
    "        available = valuations.columns.tolist()\n",
    "        for agent_id in random.sample(list(range(n_agents)), n_agents):\n",
    "            n_available = len(available)\n",
    "            n_available_allocation = min(n_available, max_items)\n",
    "            if n_available_allocation < min_items:\n",
    "                n_available_allocation = min_items\n",
    "            n_allocated = random.randint(min_items, n_available_allocation)\n",
    "            if n_available < n_allocated:\n",
    "                n_allocated = n_available\n",
    "            allocation = sorted(random.sample(available, n_allocated))\n",
    "            available = [item for item in available if item not in allocation]\n",
    "            allocations[valuations.index[agent_id]] = allocation\n",
    "\n",
    "        if (not force_allocate_all) or (\n",
    "            force_allocate_all\n",
    "            and sum([len(v) for v in allocations.values()]) >= n_items\n",
    "        ):\n",
    "            done = True\n",
    "\n",
    "    return dict(sorted(allocations.items(), key=lambda item: item[0]))\n",
    "\n",
    "\n",
    "def is_envy_free(valuations, allocations):\n",
    "    \"\"\"Checks whether an allocation is envy-free based on the provided valuations.\n",
    "\n",
    "    Args:\n",
    "        valuations (DataFrame): Valuations DataFrame where rows represent the agents and\n",
    "            columns represent the items.\n",
    "        allocations (dict): Allocations dictionary where keys are the agents and values \n",
    "            are the lists of items allocated for each agent.\n",
    "\n",
    "    Returns:\n",
    "        bool: Boolean indicating whether the allocation is envy-free.\n",
    "    \"\"\"\n",
    "    for row_id, (row_name, row) in enumerate(valuations.iterrows()):\n",
    "        subjective_allocation_utilities = {agent: 0 for agent in valuations.index}\n",
    "\n",
    "        for row_id_2, (row_name_2, row_2) in enumerate(valuations.iterrows()):\n",
    "            agent = valuations.index[row_id_2]\n",
    "            utility = sum([row[item] for item in allocations[agent]])\n",
    "            subjective_allocation_utilities[agent] = utility\n",
    "\n",
    "        if subjective_allocation_utilities[valuations.index[row_id]] == max(\n",
    "            subjective_allocation_utilities.values()\n",
    "        ):\n",
    "            pass\n",
    "        else:\n",
    "            return False\n",
    "\n",
    "    return True\n",
    "\n",
    "\n",
    "def is_envy_freeness_possible(\n",
    "    valuations, n_simulations, min_items=1, max_items=None, force_allocate_all=False\n",
    "):\n",
    "    \"\"\"Heuristically checks whether it is possible to have an envy-free allocation for \n",
    "    the given valuations. It generates random allocations until an envy-free one is \n",
    "    found or the simulation limit is reached. Therefore, the conditions are stricter \n",
    "    (allocating all items, not allowing valuations of 0, etc.), it is more likely to \n",
    "    give a false negative as the valuation complexity grows.\n",
    "\n",
    "    Args:\n",
    "        valuations (int): Valuations DataFrame where rows represent the agents and\n",
    "            columns represent the items.\n",
    "        n_simulations (int): Number of times a random set of allocations will be \n",
    "            generated and checked before it returns False.\n",
    "        min_items (int, optional): Minimum number of items to be allocated for each \n",
    "            agent. Defaults to 1.\n",
    "        max_items (int|None, optional): Maximum number of items to be allocated for each \n",
    "            agent. Defaults to None (without a limit).\n",
    "        force_allocate_all (bool, optional): Indicates whether all items must be \n",
    "            allocated to an agent. Defaults to False.\n",
    "\n",
    "    Returns:\n",
    "        (bool, dict): Tuple of a boolean indicating whether the allocation is envy-free \n",
    "            and a dictionary that shows an example envy-free allocation, along with the \n",
    "            matching simulation's index.\n",
    "    \"\"\"\n",
    "    for i in range(n_simulations):\n",
    "        random_allocations = create_random_allocations(\n",
    "            valuations,\n",
    "            min_items=min_items,\n",
    "            max_items=max_items,\n",
    "            force_allocate_all=force_allocate_all,\n",
    "        )\n",
    "        test = is_envy_free(valuations, random_allocations)\n",
    "        if test:\n",
    "            return (\n",
    "                True,\n",
    "                {\"example_allocation\": random_allocations, \"match_sim_index\": i},\n",
    "            )\n",
    "\n",
    "    return (False, {})"
   ]
  },
  {
   "cell_type": "markdown",
   "id": "117775c7-cfd9-48ee-ba42-86ee73efa4e7",
   "metadata": {},
   "source": [
    "# Use"
   ]
  },
  {
   "cell_type": "markdown",
   "id": "d562b0b4-33d9-4c3f-8829-d6161cd8b0e3",
   "metadata": {},
   "source": [
    "Creating some random valuations:"
   ]
  },
  {
   "cell_type": "code",
   "execution_count": 2,
   "id": "259b97ee-c8aa-4133-9020-ab65ae0b2161",
   "metadata": {},
   "outputs": [
    {
     "data": {
      "text/html": [
       "<div>\n",
       "<style scoped>\n",
       "    .dataframe tbody tr th:only-of-type {\n",
       "        vertical-align: middle;\n",
       "    }\n",
       "\n",
       "    .dataframe tbody tr th {\n",
       "        vertical-align: top;\n",
       "    }\n",
       "\n",
       "    .dataframe thead th {\n",
       "        text-align: right;\n",
       "    }\n",
       "</style>\n",
       "<table border=\"1\" class=\"dataframe\">\n",
       "  <thead>\n",
       "    <tr style=\"text-align: right;\">\n",
       "      <th></th>\n",
       "      <th>A</th>\n",
       "      <th>B</th>\n",
       "      <th>C</th>\n",
       "    </tr>\n",
       "  </thead>\n",
       "  <tbody>\n",
       "    <tr>\n",
       "      <th>Agent 1</th>\n",
       "      <td>1</td>\n",
       "      <td>3</td>\n",
       "      <td>0</td>\n",
       "    </tr>\n",
       "    <tr>\n",
       "      <th>Agent 2</th>\n",
       "      <td>2</td>\n",
       "      <td>2</td>\n",
       "      <td>3</td>\n",
       "    </tr>\n",
       "    <tr>\n",
       "      <th>Agent 3</th>\n",
       "      <td>2</td>\n",
       "      <td>2</td>\n",
       "      <td>2</td>\n",
       "    </tr>\n",
       "  </tbody>\n",
       "</table>\n",
       "</div>"
      ],
      "text/plain": [
       "         A  B  C\n",
       "Agent 1  1  3  0\n",
       "Agent 2  2  2  3\n",
       "Agent 3  2  2  2"
      ]
     },
     "execution_count": 2,
     "metadata": {},
     "output_type": "execute_result"
    }
   ],
   "source": [
    "valuations = create_random_valuations(n_agents=3, n_items=3, max_value=4, min_value=0, allow_item_equality=True, agent_names=[\"Agent 1\", \"Agent 2\", \"Agent 3\"], item_names=[\"A\", \"B\", \"C\"])\n",
    "\n",
    "valuations"
   ]
  },
  {
   "cell_type": "markdown",
   "id": "e1aab691-9b53-497b-a869-a2f65726bd29",
   "metadata": {},
   "source": [
    "Randomly allocating the previously appraised items:"
   ]
  },
  {
   "cell_type": "code",
   "execution_count": 3,
   "id": "84c48244-1c89-43df-bb15-0b029df33d28",
   "metadata": {},
   "outputs": [
    {
     "data": {
      "text/plain": [
       "{'Agent 1': [], 'Agent 2': ['A', 'B'], 'Agent 3': ['C']}"
      ]
     },
     "execution_count": 3,
     "metadata": {},
     "output_type": "execute_result"
    }
   ],
   "source": [
    "allocations = create_random_allocations(valuations, min_items=1, max_items=2, force_allocate_all=True)\n",
    "\n",
    "allocations"
   ]
  },
  {
   "cell_type": "markdown",
   "id": "1e81c5bf-01bf-4f6e-8006-a5a9eca09a20",
   "metadata": {},
   "source": [
    "We can now check whether this allocation is envy-free:"
   ]
  },
  {
   "cell_type": "code",
   "execution_count": 4,
   "id": "78d0fc2c-8806-4e43-834a-12c9e8684d04",
   "metadata": {},
   "outputs": [
    {
     "data": {
      "text/plain": [
       "False"
      ]
     },
     "execution_count": 4,
     "metadata": {},
     "output_type": "execute_result"
    }
   ],
   "source": [
    "is_envy_free(valuations, allocations)"
   ]
  },
  {
   "cell_type": "markdown",
   "id": "2e59e59b-61d0-4dad-a654-2734b72c994a",
   "metadata": {},
   "source": [
    "Heuristically checking if it is possible (and if so, how) to have an envy-free allocation with the given valuations:"
   ]
  },
  {
   "cell_type": "code",
   "execution_count": 5,
   "id": "1036223f-5065-40d6-a193-8033e7c1942f",
   "metadata": {},
   "outputs": [
    {
     "data": {
      "text/plain": [
       "(True,\n",
       " {'example_allocation': {'Agent 1': ['B'], 'Agent 2': ['C'], 'Agent 3': ['A']},\n",
       "  'match_sim_index': 9})"
      ]
     },
     "execution_count": 5,
     "metadata": {},
     "output_type": "execute_result"
    }
   ],
   "source": [
    "is_envy_freeness_possible(valuations, n_simulations=1000, min_items=1, max_items=2, force_allocate_all=True)"
   ]
  }
 ],
 "metadata": {
  "author": "Oz Kilic",
  "kernelspec": {
   "display_name": "Python 3 (ipykernel)",
   "language": "python",
   "name": "python3"
  },
  "language_info": {
   "codemirror_mode": {
    "name": "ipython",
    "version": 3
   },
   "file_extension": ".py",
   "mimetype": "text/x-python",
   "name": "python",
   "nbconvert_exporter": "python",
   "pygments_lexer": "ipython3",
   "version": "3.10.7"
  },
  "vscode": {
   "interpreter": {
    "hash": "4c94fe032ce1bbc1a8edf8d3360dc9beb16036e6b829b4fac346d8218b2d6878"
   }
  }
 },
 "nbformat": 4,
 "nbformat_minor": 5
}
